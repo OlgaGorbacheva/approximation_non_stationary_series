{
 "cells": [
  {
   "cell_type": "code",
   "execution_count": 1,
   "metadata": {
    "collapsed": true
   },
   "outputs": [],
   "source": [
    "import pandas as pd\n",
    "import numpy as np\n",
    "from scipy import sparse\n",
    "from tqdm import tqdm\n",
    "import math"
   ]
  },
  {
   "cell_type": "markdown",
   "metadata": {},
   "source": [
    "### Обработка входных данных"
   ]
  },
  {
   "cell_type": "code",
   "execution_count": 2,
   "metadata": {
    "collapsed": false
   },
   "outputs": [
    {
     "data": {
      "text/html": [
       "<div>\n",
       "<style scoped>\n",
       "    .dataframe tbody tr th:only-of-type {\n",
       "        vertical-align: middle;\n",
       "    }\n",
       "\n",
       "    .dataframe tbody tr th {\n",
       "        vertical-align: top;\n",
       "    }\n",
       "\n",
       "    .dataframe thead th {\n",
       "        text-align: right;\n",
       "    }\n",
       "</style>\n",
       "<table border=\"1\" class=\"dataframe\">\n",
       "  <thead>\n",
       "    <tr style=\"text-align: right;\">\n",
       "      <th></th>\n",
       "      <th>0</th>\n",
       "      <th>1</th>\n",
       "      <th>2</th>\n",
       "    </tr>\n",
       "  </thead>\n",
       "  <tbody>\n",
       "    <tr>\n",
       "      <th>0</th>\n",
       "      <td>1394351059</td>\n",
       "      <td>621.0</td>\n",
       "      <td>0.01</td>\n",
       "    </tr>\n",
       "    <tr>\n",
       "      <th>1</th>\n",
       "      <td>1394351073</td>\n",
       "      <td>620.0</td>\n",
       "      <td>0.01</td>\n",
       "    </tr>\n",
       "    <tr>\n",
       "      <th>2</th>\n",
       "      <td>1394427477</td>\n",
       "      <td>620.0</td>\n",
       "      <td>0.01</td>\n",
       "    </tr>\n",
       "    <tr>\n",
       "      <th>3</th>\n",
       "      <td>1394427596</td>\n",
       "      <td>620.5</td>\n",
       "      <td>0.01</td>\n",
       "    </tr>\n",
       "    <tr>\n",
       "      <th>4</th>\n",
       "      <td>1394427614</td>\n",
       "      <td>621.0</td>\n",
       "      <td>0.01</td>\n",
       "    </tr>\n",
       "  </tbody>\n",
       "</table>\n",
       "</div>"
      ],
      "text/plain": [
       "            0      1     2\n",
       "0  1394351059  621.0  0.01\n",
       "1  1394351073  620.0  0.01\n",
       "2  1394427477  620.0  0.01\n",
       "3  1394427596  620.5  0.01\n",
       "4  1394427614  621.0  0.01"
      ]
     },
     "execution_count": 2,
     "metadata": {},
     "output_type": "execute_result"
    }
   ],
   "source": [
    "df = pd.read_csv('1coinUSD.csv', header=None)\n",
    "df.head()"
   ]
  },
  {
   "cell_type": "code",
   "execution_count": 3,
   "metadata": {
    "collapsed": false
   },
   "outputs": [
    {
     "name": "stdout",
     "output_type": "stream",
     "text": [
      "(100000,) <class 'numpy.ndarray'> float64\n"
     ]
    }
   ],
   "source": [
    "def normalize(arr):\n",
    "    max_val = np.max(arr)\n",
    "    min_val = np.min(arr)\n",
    "    arr = (arr - min_val) / max_val\n",
    "    return arr\n",
    "\n",
    "coin_val = normalize(df.values[:,1])[:100000]\n",
    "print(coin_val.shape, type(coin_val), coin_val.dtype)"
   ]
  },
  {
   "cell_type": "markdown",
   "metadata": {},
   "source": [
    "### Класс подсчета параметров для построения ВПФР нового ряда"
   ]
  },
  {
   "cell_type": "code",
   "execution_count": 62,
   "metadata": {
    "collapsed": false
   },
   "outputs": [],
   "source": [
    "class model_param:\n",
    "    def __init__(self, var, T=10000, count_velocity = True, n_v=100):\n",
    "        \n",
    "        self.var = var\n",
    "        self.delta = self.count_delta()\n",
    "\n",
    "        self.T = T\n",
    "        self.n = math.floor(math.pow(T, 0.34))\n",
    "        self.n_v = n_v\n",
    "\n",
    "        self.density = []\n",
    "        self.velocity = []\n",
    "\n",
    "        self.current_density = None\n",
    "        self.current_velocity_table = None\n",
    "        self.current_velocity = None\n",
    "\n",
    "        self.gist_density = None\n",
    "        self.gist_velocity = None\n",
    "        \n",
    "        self.current_density_bin_to_points = [[] for _ in range(self.n)]\n",
    "        self.current_density_points_to_bin = np.array([-1 for _ in range(var.shape[0])])\n",
    "        self.current_velocity_points_to_bin = np.array([-1 for _ in range(var.shape[0])])\n",
    "\n",
    "        self.mean_velocity_in_bin = None\n",
    "        \n",
    "        self.count_velocity = count_velocity\n",
    "    \n",
    "    def count_delta(self):\n",
    "        return np.append(self.var[1:] - self.var[:-1], 0)\n",
    "    \n",
    "    def run(self):\n",
    "        for i in tqdm(range(self.T - 1, self.var.shape[0])):\n",
    "            self.get_current_density(i)\n",
    "            self.density.append(sparse.csr_matrix(self.current_density))\n",
    "            if (self.count_velocity):\n",
    "                self.get_current_velocity(i)\n",
    "                self.velocity.append(sparse.csr_matrix(self.current_velocity))\n",
    "        self.density = sparse.vstack(self.density, format='csr')\n",
    "        if (self.count_velocity):\n",
    "            self.velocity = sparse.vstack(self.velocity, format='csr')\n",
    "\n",
    "        \n",
    "    def get_current_velocity(self, i):\n",
    "        self.current_velocity = np.zeros(self.n)\n",
    "        if (self.current_velocity_table is None):\n",
    "            self.count_init_velocity_table()\n",
    "        else:\n",
    "            self.get_next_velocity_table(i)\n",
    "        for i in range(self.n):\n",
    "            if (self.current_density[i] == 0):\n",
    "                self.current_velocity[i] = 0\n",
    "            else:\n",
    "                integral = np.multiply(self.current_velocity_table[:, i], self.mean_velocity_in_bin)\n",
    "                self.current_velocity[i] = (integral).sum() / self.current_density[i]\n",
    "            \n",
    "    def get_next_velocity_table(self, i):\n",
    "        self.current_velocity_points_to_bin[i] = self.get_bin(self.gist_velocity, self.delta[i])      \n",
    "        self.current_velocity_table[self.current_velocity_points_to_bin[i - self.T]][self.current_density_points_to_bin[i - self.T]] -= 1\n",
    "        self.current_velocity_table[self.current_velocity_points_to_bin[i]][self.current_density_points_to_bin[i]] += 1\n",
    "            \n",
    "    def count_init_velocity_table(self):\n",
    "        var = self.delta[:self.T]\n",
    "        self.current_velocity_table = np.zeros((self.n_v, self.n))\n",
    "        if (self.gist_velocity is None):\n",
    "            self.gist_velocity = self.get_gist(-1, 1, self.n_v)\n",
    "            self.mean_velocity_in_bin = (self.gist_velocity[:, 1] + self.gist_velocity[:, 0]) / 2\n",
    "        for i, g in enumerate(self.gist_velocity):\n",
    "            for j in range(self.n):\n",
    "                current_var = var[self.current_density_bin_to_points[j]]\n",
    "                indicies = np.nonzero(np.logical_and(current_var >= g[0], current_var < g[1]))[0]\n",
    "                if (len(indicies)):\n",
    "                    self.current_velocity_points_to_bin[np.array(self.current_density_bin_to_points[j])[indicies]] = i\n",
    "                self.current_velocity_table[i][j] = len(indicies)\n",
    "    \n",
    "    def get_current_density(self, i):\n",
    "        if (self.current_density is None):\n",
    "            self.count_init_density()\n",
    "        else:\n",
    "            self.get_next_density(i)\n",
    "            \n",
    "    def get_next_density(self, i):\n",
    "        self.current_density[self.current_density_points_to_bin[i - self.T]] -= 1 / self.T\n",
    "        self.current_density_points_to_bin[i] = self.get_bin(self.gist_density, self.var[i])\n",
    "        self.current_density[self.current_density_points_to_bin[i]] += 1 / self.T\n",
    "        \n",
    "    def get_bin(self, gist, elem):\n",
    "        for i, g in enumerate(gist):\n",
    "            if (g[0] <= elem < g[1]):\n",
    "                return i\n",
    "        \n",
    "    def count_init_density(self):\n",
    "        var = self.var[:self.T]\n",
    "        self.current_density = np.zeros(self.n)\n",
    "        if (self.gist_density is None):\n",
    "            self.gist_density = self.get_gist(0, 1, self.n)\n",
    "        for i, g in enumerate(self.gist_density):\n",
    "            indicies = np.nonzero(np.logical_and(var >= g[0], var < g[1]))[0]\n",
    "            self.current_density_bin_to_points[i].extend(indicies)\n",
    "            self.current_density_points_to_bin[indicies] = i\n",
    "            self.current_density[i] = len(indicies) / self.T\n",
    "        self.current_density_bin_to_points = np.array(self.current_density_bin_to_points)\n",
    "        \n",
    "            \n",
    "    def get_gist(self, a, b, n):\n",
    "        return np.array([(j * (b - a) / n + a, (j + 1) * (b - a) / n + a) for j in range(n)], dtype=float)"
   ]
  },
  {
   "cell_type": "markdown",
   "metadata": {},
   "source": [
    "Тестирование функций класса "
   ]
  },
  {
   "cell_type": "code",
   "execution_count": 43,
   "metadata": {
    "collapsed": true
   },
   "outputs": [
    {
     "name": "stdout",
     "output_type": "stream",
     "text": [
      "[ 12 -21  11   3   0]\n"
     ]
    }
   ],
   "source": [
    "a = model_param(np.array([1, 13, -8, 3, 6]))\n",
    "print(a.delta)"
   ]
  },
  {
   "cell_type": "code",
   "execution_count": 100,
   "metadata": {
    "collapsed": true
   },
   "outputs": [
    {
     "name": "stdout",
     "output_type": "stream",
     "text": [
      "3\n",
      "[0]\n",
      "[[0.         0.33333333]\n",
      " [0.33333333 0.66666667]\n",
      " [0.66666667 1.        ]]\n"
     ]
    }
   ],
   "source": [
    "b = model_param(np.array([1]), T = 8)\n",
    "print(b.n)\n",
    "print(b.delta)\n",
    "b.run()\n",
    "print(b.gist_density)"
   ]
  },
  {
   "cell_type": "code",
   "execution_count": 58,
   "metadata": {
    "collapsed": true
   },
   "outputs": [
    {
     "name": "stdout",
     "output_type": "stream",
     "text": [
      "[0.  0.1 0.2 0.3 0.4 0.5 0.6 0.7 0.8 0.9]\n",
      "4\n",
      "[0.1 0.1 0.1 0.1 0.1 0.1 0.1 0.1 0.1 0. ]\n",
      "[[0.   0.25]\n",
      " [0.25 0.5 ]\n",
      " [0.5  0.75]\n",
      " [0.75 1.  ]]\n",
      "[list([0, 1, 2]) list([3, 4]) list([5, 6, 7]) list([8])]\n",
      "[0 0 0 1 1 2 2 2 3 3]\n",
      "[2. 2. 3. 2.]\n"
     ]
    }
   ],
   "source": [
    "c = model_param(np.arange(0, 10) / 10, T=9)\n",
    "print(c.var)\n",
    "print(c.n)\n",
    "print(c.delta)\n",
    "c.run()\n",
    "print(c.gist_density)\n",
    "print(c.current_density_bin_to_points)\n",
    "print(c.current_density_points_to_bin)\n",
    "print(c.current_density)"
   ]
  },
  {
   "cell_type": "code",
   "execution_count": 59,
   "metadata": {
    "collapsed": true
   },
   "outputs": [
    {
     "name": "stdout",
     "output_type": "stream",
     "text": [
      "[[10.  0.  0.  0.]\n",
      " [10.  0.  0.  0.]\n",
      " [10.  0.  0.  0.]\n",
      " [10.  0.  0.  0.]\n",
      " [10.  0.  0.  0.]\n",
      " [10.  0.  0.  0.]\n",
      " [10.  0.  0.  0.]\n",
      " [10.  0.  0.  0.]\n",
      " [10.  0.  0.  0.]\n",
      " [10.  0.  0.  0.]\n",
      " [10.  0.  0.  0.]\n",
      " [10.  0.  0.  0.]\n",
      " [10.  0.  0.  0.]\n",
      " [10.  0.  0.  0.]\n",
      " [10.  0.  0.  0.]\n",
      " [10.  0.  0.  0.]\n",
      " [ 9.  1.  0.  0.]\n",
      " [ 8.  2.  0.  0.]\n",
      " [ 7.  3.  0.  0.]\n",
      " [ 6.  4.  0.  0.]\n",
      " [ 5.  5.  0.  0.]\n",
      " [ 4.  6.  0.  0.]\n",
      " [ 3.  7.  0.  0.]\n",
      " [ 2.  8.  0.  0.]\n",
      " [ 1.  9.  0.  0.]\n",
      " [ 0. 10.  0.  0.]\n",
      " [ 0. 10.  0.  0.]\n",
      " [ 0. 10.  0.  0.]\n",
      " [ 0. 10.  0.  0.]\n",
      " [ 0. 10.  0.  0.]\n",
      " [ 0. 10.  0.  0.]\n",
      " [ 0. 10.  0.  0.]\n",
      " [ 0. 10.  0.  0.]\n",
      " [ 0. 10.  0.  0.]\n",
      " [ 0. 10.  0.  0.]\n",
      " [ 0. 10.  0.  0.]\n",
      " [ 0. 10.  0.  0.]\n",
      " [ 0. 10.  0.  0.]\n",
      " [ 0. 10.  0.  0.]\n",
      " [ 0. 10.  0.  0.]\n",
      " [ 0. 10.  0.  0.]\n",
      " [ 0.  9.  1.  0.]\n",
      " [ 0.  8.  2.  0.]\n",
      " [ 0.  7.  3.  0.]\n",
      " [ 0.  6.  4.  0.]\n",
      " [ 0.  5.  5.  0.]\n",
      " [ 0.  4.  6.  0.]\n",
      " [ 0.  3.  7.  0.]\n",
      " [ 0.  2.  8.  0.]\n",
      " [ 0.  1.  9.  0.]\n",
      " [ 0.  0. 10.  0.]\n",
      " [ 0.  0. 10.  0.]\n",
      " [ 0.  0. 10.  0.]\n",
      " [ 0.  0. 10.  0.]\n",
      " [ 0.  0. 10.  0.]\n",
      " [ 0.  0. 10.  0.]\n",
      " [ 0.  0. 10.  0.]\n",
      " [ 0.  0. 10.  0.]\n",
      " [ 0.  0. 10.  0.]\n",
      " [ 0.  0. 10.  0.]\n",
      " [ 0.  0. 10.  0.]\n",
      " [ 0.  0. 10.  0.]\n",
      " [ 0.  0. 10.  0.]\n",
      " [ 0.  0. 10.  0.]\n",
      " [ 0.  0. 10.  0.]\n",
      " [ 0.  0. 10.  0.]\n",
      " [ 0.  0.  9.  1.]\n",
      " [ 0.  0.  8.  2.]\n",
      " [ 0.  0.  7.  3.]\n",
      " [ 0.  0.  6.  4.]\n",
      " [ 0.  0.  5.  5.]\n",
      " [ 0.  0.  4.  6.]\n",
      " [ 0.  0.  3.  7.]\n",
      " [ 0.  0.  2.  8.]\n",
      " [ 0.  0.  1.  9.]\n",
      " [ 0.  0.  0. 10.]\n",
      " [ 0.  0.  0. 10.]\n",
      " [ 0.  0.  0. 10.]\n",
      " [ 0.  0.  0. 10.]\n",
      " [ 0.  0.  0. 10.]\n",
      " [ 0.  0.  0. 10.]\n",
      " [ 0.  0.  0. 10.]\n",
      " [ 0.  0.  0. 10.]\n",
      " [ 0.  0.  0. 10.]\n",
      " [ 0.  0.  0. 10.]\n",
      " [ 0.  0.  0. 10.]\n",
      " [ 0.  0.  0. 10.]\n",
      " [ 0.  0.  0. 10.]\n",
      " [ 0.  0.  0. 10.]\n",
      " [ 0.  0.  0. 10.]\n",
      " [ 0.  0.  0. 10.]]\n"
     ]
    }
   ],
   "source": [
    "d = model_param(np.arange(0, 100) / 100, T=10)\n",
    "d.run()\n",
    "#print(d.current_density_points_to_bin)\n",
    "print(d.density.toarray())"
   ]
  },
  {
   "cell_type": "code",
   "execution_count": 155,
   "metadata": {
    "collapsed": true
   },
   "outputs": [
    {
     "name": "stdout",
     "output_type": "stream",
     "text": [
      "[[-1.  -0.8]\n",
      " [-0.8 -0.6]\n",
      " [-0.6 -0.4]\n",
      " [-0.4 -0.2]\n",
      " [-0.2  0. ]\n",
      " [ 0.   0.2]\n",
      " [ 0.2  0.4]\n",
      " [ 0.4  0.6]\n",
      " [ 0.6  0.8]\n",
      " [ 0.8  1. ]]\n"
     ]
    }
   ],
   "source": [
    "d = model_param(np.arange(0, 10) / 10, T=10, n_v=10)\n",
    "d.run()\n",
    "print(d.gist_velocity)"
   ]
  },
  {
   "cell_type": "code",
   "execution_count": 44,
   "metadata": {
    "collapsed": true
   },
   "outputs": [
    {
     "name": "stdout",
     "output_type": "stream",
     "text": [
      "[[0. 0. 0. 0.]\n",
      " [3. 2. 3. 2.]]\n"
     ]
    }
   ],
   "source": [
    "e = model_param(np.arange(0, 10) / 10, T=10, n_v=2)\n",
    "e.run()\n",
    "print(e.current_velocity_table)"
   ]
  },
  {
   "cell_type": "code",
   "execution_count": 55,
   "metadata": {
    "collapsed": true
   },
   "outputs": [
    {
     "name": "stdout",
     "output_type": "stream",
     "text": [
      "[[10.  0.  0.  0.]\n",
      " [10.  0.  0.  0.]\n",
      " [10.  0.  0.  0.]\n",
      " [10.  0.  0.  0.]\n",
      " [10.  0.  0.  0.]\n",
      " [10.  0.  0.  0.]\n",
      " [10.  0.  0.  0.]\n",
      " [10.  0.  0.  0.]\n",
      " [10.  0.  0.  0.]\n",
      " [10.  0.  0.  0.]\n",
      " [10.  0.  0.  0.]\n",
      " [10.  0.  0.  0.]\n",
      " [10.  0.  0.  0.]\n",
      " [10.  0.  0.  0.]\n",
      " [10.  0.  0.  0.]\n",
      " [10.  0.  0.  0.]\n",
      " [ 9.  1.  0.  0.]\n",
      " [ 8.  2.  0.  0.]\n",
      " [ 7.  3.  0.  0.]\n",
      " [ 6.  4.  0.  0.]\n",
      " [ 5.  5.  0.  0.]\n",
      " [ 4.  6.  0.  0.]\n",
      " [ 3.  7.  0.  0.]\n",
      " [ 2.  8.  0.  0.]\n",
      " [ 1.  9.  0.  0.]\n",
      " [ 0. 10.  0.  0.]\n",
      " [ 0. 10.  0.  0.]\n",
      " [ 0. 10.  0.  0.]\n",
      " [ 0. 10.  0.  0.]\n",
      " [ 0. 10.  0.  0.]\n",
      " [ 0. 10.  0.  0.]\n",
      " [ 0. 10.  0.  0.]\n",
      " [ 0. 10.  0.  0.]\n",
      " [ 0. 10.  0.  0.]\n",
      " [ 0. 10.  0.  0.]\n",
      " [ 0. 10.  0.  0.]\n",
      " [ 0. 10.  0.  0.]\n",
      " [ 0. 10.  0.  0.]\n",
      " [ 0. 10.  0.  0.]\n",
      " [ 0. 10.  0.  0.]\n",
      " [ 0. 10.  0.  0.]\n",
      " [ 0.  9.  1.  0.]\n",
      " [ 0.  8.  2.  0.]\n",
      " [ 0.  7.  3.  0.]\n",
      " [ 0.  6.  4.  0.]\n",
      " [ 0.  5.  5.  0.]\n",
      " [ 0.  4.  6.  0.]\n",
      " [ 0.  3.  7.  0.]\n",
      " [ 0.  2.  8.  0.]\n",
      " [ 0.  1.  9.  0.]\n",
      " [ 0.  0. 10.  0.]\n",
      " [ 0.  0. 10.  0.]\n",
      " [ 0.  0. 10.  0.]\n",
      " [ 0.  0. 10.  0.]\n",
      " [ 0.  0. 10.  0.]\n",
      " [ 0.  0. 10.  0.]\n",
      " [ 0.  0. 10.  0.]\n",
      " [ 0.  0. 10.  0.]\n",
      " [ 0.  0. 10.  0.]\n",
      " [ 0.  0. 10.  0.]\n",
      " [ 0.  0. 10.  0.]\n",
      " [ 0.  0. 10.  0.]\n",
      " [ 0.  0. 10.  0.]\n",
      " [ 0.  0. 10.  0.]\n",
      " [ 0.  0. 10.  0.]\n",
      " [ 0.  0. 10.  0.]\n",
      " [ 0.  0.  9.  1.]\n",
      " [ 0.  0.  8.  2.]\n",
      " [ 0.  0.  7.  3.]\n",
      " [ 0.  0.  6.  4.]\n",
      " [ 0.  0.  5.  5.]\n",
      " [ 0.  0.  4.  6.]\n",
      " [ 0.  0.  3.  7.]\n",
      " [ 0.  0.  2.  8.]\n",
      " [ 0.  0.  1.  9.]\n",
      " [ 0.  0.  0. 10.]\n",
      " [ 0.  0.  0. 10.]\n",
      " [ 0.  0.  0. 10.]\n",
      " [ 0.  0.  0. 10.]\n",
      " [ 0.  0.  0. 10.]\n",
      " [ 0.  0.  0. 10.]\n",
      " [ 0.  0.  0. 10.]\n",
      " [ 0.  0.  0. 10.]\n",
      " [ 0.  0.  0. 10.]\n",
      " [ 0.  0.  0. 10.]\n",
      " [ 0.  0.  0. 10.]\n",
      " [ 0.  0.  0. 10.]\n",
      " [ 0.  0.  0. 10.]\n",
      " [ 0.  0.  0. 10.]\n",
      " [ 0.  0.  0. 10.]\n",
      " [ 0.  0.  0. 10.]]\n",
      "[[0.25 0.   0.   0.  ]\n",
      " [0.25 0.   0.   0.  ]\n",
      " [0.25 0.   0.   0.  ]\n",
      " [0.25 0.   0.   0.  ]\n",
      " [0.25 0.   0.   0.  ]\n",
      " [0.25 0.   0.   0.  ]\n",
      " [0.25 0.   0.   0.  ]\n",
      " [0.25 0.   0.   0.  ]\n",
      " [0.25 0.   0.   0.  ]\n",
      " [0.25 0.   0.   0.  ]\n",
      " [0.25 0.   0.   0.  ]\n",
      " [0.25 0.   0.   0.  ]\n",
      " [0.25 0.   0.   0.  ]\n",
      " [0.25 0.   0.   0.  ]\n",
      " [0.25 0.   0.   0.  ]\n",
      " [0.25 0.   0.   0.  ]\n",
      " [0.25 0.25 0.   0.  ]\n",
      " [0.25 0.25 0.   0.  ]\n",
      " [0.25 0.25 0.   0.  ]\n",
      " [0.25 0.25 0.   0.  ]\n",
      " [0.25 0.25 0.   0.  ]\n",
      " [0.25 0.25 0.   0.  ]\n",
      " [0.25 0.25 0.   0.  ]\n",
      " [0.25 0.25 0.   0.  ]\n",
      " [0.25 0.25 0.   0.  ]\n",
      " [0.   0.25 0.   0.  ]\n",
      " [0.   0.25 0.   0.  ]\n",
      " [0.   0.25 0.   0.  ]\n",
      " [0.   0.25 0.   0.  ]\n",
      " [0.   0.25 0.   0.  ]\n",
      " [0.   0.25 0.   0.  ]\n",
      " [0.   0.25 0.   0.  ]\n",
      " [0.   0.25 0.   0.  ]\n",
      " [0.   0.25 0.   0.  ]\n",
      " [0.   0.25 0.   0.  ]\n",
      " [0.   0.25 0.   0.  ]\n",
      " [0.   0.25 0.   0.  ]\n",
      " [0.   0.25 0.   0.  ]\n",
      " [0.   0.25 0.   0.  ]\n",
      " [0.   0.25 0.   0.  ]\n",
      " [0.   0.25 0.   0.  ]\n",
      " [0.   0.25 0.25 0.  ]\n",
      " [0.   0.25 0.25 0.  ]\n",
      " [0.   0.25 0.25 0.  ]\n",
      " [0.   0.25 0.25 0.  ]\n",
      " [0.   0.25 0.25 0.  ]\n",
      " [0.   0.25 0.25 0.  ]\n",
      " [0.   0.25 0.25 0.  ]\n",
      " [0.   0.25 0.25 0.  ]\n",
      " [0.   0.25 0.25 0.  ]\n",
      " [0.   0.   0.25 0.  ]\n",
      " [0.   0.   0.25 0.  ]\n",
      " [0.   0.   0.25 0.  ]\n",
      " [0.   0.   0.25 0.  ]\n",
      " [0.   0.   0.25 0.  ]\n",
      " [0.   0.   0.25 0.  ]\n",
      " [0.   0.   0.25 0.  ]\n",
      " [0.   0.   0.25 0.  ]\n",
      " [0.   0.   0.25 0.  ]\n",
      " [0.   0.   0.25 0.  ]\n",
      " [0.   0.   0.25 0.  ]\n",
      " [0.   0.   0.25 0.  ]\n",
      " [0.   0.   0.25 0.  ]\n",
      " [0.   0.   0.25 0.  ]\n",
      " [0.   0.   0.25 0.  ]\n",
      " [0.   0.   0.25 0.  ]\n",
      " [0.   0.   0.25 0.25]\n",
      " [0.   0.   0.25 0.25]\n",
      " [0.   0.   0.25 0.25]\n",
      " [0.   0.   0.25 0.25]\n",
      " [0.   0.   0.25 0.25]\n",
      " [0.   0.   0.25 0.25]\n",
      " [0.   0.   0.25 0.25]\n",
      " [0.   0.   0.25 0.25]\n",
      " [0.   0.   0.25 0.25]\n",
      " [0.   0.   0.   0.25]\n",
      " [0.   0.   0.   0.25]\n",
      " [0.   0.   0.   0.25]\n",
      " [0.   0.   0.   0.25]\n",
      " [0.   0.   0.   0.25]\n",
      " [0.   0.   0.   0.25]\n",
      " [0.   0.   0.   0.25]\n",
      " [0.   0.   0.   0.25]\n",
      " [0.   0.   0.   0.25]\n",
      " [0.   0.   0.   0.25]\n",
      " [0.   0.   0.   0.25]\n",
      " [0.   0.   0.   0.25]\n",
      " [0.   0.   0.   0.25]\n",
      " [0.   0.   0.   0.25]\n",
      " [0.   0.   0.   0.25]\n",
      " [0.   0.   0.   0.25]]\n"
     ]
    }
   ],
   "source": [
    "f = model_param(np.arange(0, 100) / 100, T=10, n_v=4)\n",
    "f.run()\n",
    "print(f.density.toarray())\n",
    "print(f.velocity.toarray())"
   ]
  },
  {
   "cell_type": "markdown",
   "metadata": {},
   "source": [
    "### Рассчет параметров модели"
   ]
  },
  {
   "cell_type": "code",
   "execution_count": 63,
   "metadata": {
    "collapsed": false
   },
   "outputs": [
    {
     "name": "stderr",
     "output_type": "stream",
     "text": [
      "100%|██████████| 95001/95001 [01:32<00:00, 1023.02it/s]\n"
     ]
    }
   ],
   "source": [
    "params = model_param(coin_val, T=5000)\n",
    "params.run()"
   ]
  },
  {
   "cell_type": "code",
   "execution_count": 64,
   "metadata": {
    "collapsed": true
   },
   "outputs": [],
   "source": [
    "sparse.save_npz(\"velocity_matrix_csr.npz\", params.velocity)\n",
    "sparse.save_npz(\"density_matrix_csr.npz\", params.density)"
   ]
  },
  {
   "cell_type": "code",
   "execution_count": 65,
   "metadata": {
    "collapsed": false
   },
   "outputs": [
    {
     "name": "stdout",
     "output_type": "stream",
     "text": [
      "[[0.     0.     0.     0.     0.     0.     0.     0.     0.     0.\n",
      "  0.2546 0.306  0.4394 0.     0.     0.     0.     0.    ]]\n"
     ]
    }
   ],
   "source": [
    "print(params.density[45].toarray())"
   ]
  },
  {
   "cell_type": "markdown",
   "metadata": {},
   "source": [
    "### Построение модели эволюции системы"
   ]
  },
  {
   "cell_type": "code",
   "execution_count": 75,
   "metadata": {
    "collapsed": false
   },
   "outputs": [],
   "source": [
    "class evolutionary:\n",
    "    def __init__(self, var, n, T, density, velocity, density_gist):\n",
    "        self.var = var\n",
    "        self.n = n\n",
    "        self.T = T\n",
    "        self.density = density\n",
    "        self.velocity = velocity\n",
    "        self.density_gist = density_gist\n",
    "        self.new_density = []\n",
    "        self.init_density = None\n",
    "        \n",
    "    def run(self):\n",
    "        self.init_density = np.array([0., 0., 0., 0., 0., 0., 0., 0., 0., 0., 0.5200622, 0.4259711, 0.05396671, 0., 0., 0., 0., 0.])\n",
    "        self.new_density.append(sparse.csr_matrix(self.init_density))\n",
    "        self.new_density.append(sparse.csr_matrix(self.init_density))\n",
    "        for i in tqdm(range(1, self.var.shape[0] -self.T - 1)):\n",
    "            current_density = self.density[i].toarray()[0]\n",
    "            new_velocity = self.get_new_velocity(i)\n",
    "            shifted_density = self.get_shifted(current_density)\n",
    "            shifted_new_velocity = self.get_shifted(new_velocity)\n",
    "            new_current_density = current_density \\\n",
    "                                  + np.multiply(current_density, new_velocity) \\\n",
    "                                  - np.multiply(shifted_density, shifted_new_velocity)\n",
    "            new_current_density[new_current_density < 0] = 0\n",
    "            assert (new_current_density < 0).sum() == 0\n",
    "            self.new_density.append(sparse.csr_matrix(new_current_density / new_current_density.sum()))\n",
    "        self.new_density = sparse.vstack(self.new_density, format='csr')        \n",
    "                    \n",
    "    def get_new_velocity(self, i):\n",
    "        current_density = self.density[i].toarray()[0]\n",
    "        prev_density = self.density[i - 1].toarray()[0]\n",
    "        prev_velocity = self.velocity[i - 1].toarray()[0]\n",
    "        new_velocity = np.zeros(self.n)\n",
    "        indicies = np.nonzero(current_density)\n",
    "        new_velocity[indicies] = np.divide(np.multiply(prev_density[indicies], prev_velocity[indicies]), current_density[indicies])\n",
    "        return new_velocity\n",
    "    \n",
    "    def get_shifted(self, array):\n",
    "        return np.append(array[1:], 0)"
   ]
  },
  {
   "cell_type": "markdown",
   "metadata": {},
   "source": [
    "### Расчет эволюционирующих ВПФР"
   ]
  },
  {
   "cell_type": "code",
   "execution_count": 76,
   "metadata": {
    "collapsed": false,
    "scrolled": false
   },
   "outputs": [
    {
     "name": "stderr",
     "output_type": "stream",
     "text": [
      "100%|██████████| 94998/94998 [01:48<00:00, 878.52it/s]\n"
     ]
    }
   ],
   "source": [
    "density_evolution = evolutionary(coin_val, params.n, params.T, params.density, params.velocity, params.gist_density)\n",
    "density_evolution.run()\n",
    "sparse.save_npz(\"new_density_matrix_csr.npz\", density_evolution.new_density)"
   ]
  },
  {
   "cell_type": "code",
   "execution_count": 78,
   "metadata": {
    "collapsed": false
   },
   "outputs": [
    {
     "name": "stdout",
     "output_type": "stream",
     "text": [
      "(95000, 18)\n",
      "(95001, 18)\n",
      "(95001, 18)\n"
     ]
    }
   ],
   "source": [
    "print(density_evolution.new_density.shape)\n",
    "print(params.velocity.shape)\n",
    "print(params.density.shape)"
   ]
  },
  {
   "cell_type": "code",
   "execution_count": 81,
   "metadata": {
    "collapsed": false,
    "scrolled": false
   },
   "outputs": [
    {
     "name": "stdout",
     "output_type": "stream",
     "text": [
      "[[0.         0.         0.         0.         0.         0.\n",
      "  0.         0.         0.         0.         0.5200622  0.4259711\n",
      "  0.05396671 0.         0.         0.         0.         0.        ]]\n",
      "\n",
      "[[0. 0. 0. 0. 0. 0. 0. 0. 0. 0. 0. 0. 1. 0. 0. 0. 0. 0.]]\n",
      "\n",
      "[[0.         0.         0.         0.         0.         0.\n",
      "  0.         0.         0.         0.         0.48894325 0.34822295\n",
      "  0.1628338  0.         0.         0.         0.         0.        ]]\n"
     ]
    }
   ],
   "source": [
    "print(density_evolution.new_density[1].toarray())\n",
    "print()\n",
    "print(density_evolution.new_density[100].toarray())\n",
    "print()\n",
    "print(density_evolution.new_density[1800].toarray())"
   ]
  },
  {
   "cell_type": "markdown",
   "metadata": {},
   "source": [
    "### Генерация ряда на основе ВПФР"
   ]
  },
  {
   "cell_type": "code",
   "execution_count": 131,
   "metadata": {
    "collapsed": false
   },
   "outputs": [],
   "source": [
    "class generated_trajectory:\n",
    "    def __init__(self, density, T, n, N, generation):\n",
    "        self.f = density\n",
    "        self.T = T\n",
    "        self.N = N\n",
    "        self.n = n\n",
    "        self.j = generation\n",
    "        self.y = np.random.uniform(0, 1, self.N)\n",
    "        self.x = np.zeros(N)\n",
    "        self.count = 0\n",
    "        \n",
    "    def count_x(self):\n",
    "        for i in tqdm(range(self.N)):\n",
    "            j = self.f[i].toarray()[0].nonzero()[0]\n",
    "            if (self.f[i].toarray()[0][self.j] != 0):\n",
    "                assert self.n is not None\n",
    "                assert (self.f[i].toarray()[0][:self.j + 1]).sum() is not None\n",
    "                assert self.y is not None\n",
    "                assert self.y[i] is not None\n",
    "                self.x[i] = 1 / self.n * ((self.y[i] - (self.f[i].toarray()[0][:self.j]).sum()) / self.f[i][self.j] + self.j - 1)\n",
    "            else:\n",
    "                self.count += 1"
   ]
  },
  {
   "cell_type": "code",
   "execution_count": 132,
   "metadata": {
    "collapsed": false,
    "scrolled": true
   },
   "outputs": [
    {
     "name": "stderr",
     "output_type": "stream",
     "text": [
      "\n",
      "\n",
      "\n",
      "  0%|          | 0/90000 [00:00<?, ?it/s]\u001b[A\u001b[A\u001b[A\n",
      "\n",
      "\n",
      "\u001b[A\u001b[A\u001b[A"
     ]
    },
    {
     "ename": "IndexError",
     "evalue": "index (12) out of range",
     "output_type": "error",
     "traceback": [
      "\u001b[0;31m---------------------------------------------------------------------------\u001b[0m",
      "\u001b[0;31mIndexError\u001b[0m                                Traceback (most recent call last)",
      "\u001b[0;32m<ipython-input-132-38f36d08d1eb>\u001b[0m in \u001b[0;36m<module>\u001b[0;34m()\u001b[0m\n\u001b[1;32m      1\u001b[0m \u001b[0mnew_traj\u001b[0m \u001b[0;34m=\u001b[0m \u001b[0mgenerated_trajectory\u001b[0m\u001b[0;34m(\u001b[0m\u001b[0mdensity_evolution\u001b[0m\u001b[0;34m.\u001b[0m\u001b[0mnew_density\u001b[0m\u001b[0;34m,\u001b[0m \u001b[0mdensity_evolution\u001b[0m\u001b[0;34m.\u001b[0m\u001b[0mT\u001b[0m\u001b[0;34m,\u001b[0m \u001b[0mdensity_evolution\u001b[0m\u001b[0;34m.\u001b[0m\u001b[0mn\u001b[0m\u001b[0;34m,\u001b[0m \u001b[0;36m90000\u001b[0m\u001b[0;34m,\u001b[0m \u001b[0;36m12\u001b[0m\u001b[0;34m)\u001b[0m\u001b[0;34m\u001b[0m\u001b[0m\n\u001b[0;32m----> 2\u001b[0;31m \u001b[0mnew_traj\u001b[0m\u001b[0;34m.\u001b[0m\u001b[0mcount_x\u001b[0m\u001b[0;34m(\u001b[0m\u001b[0;34m)\u001b[0m\u001b[0;34m\u001b[0m\u001b[0m\n\u001b[0m",
      "\u001b[0;32m<ipython-input-131-7f97a57cc879>\u001b[0m in \u001b[0;36mcount_x\u001b[0;34m(self)\u001b[0m\n\u001b[1;32m     24\u001b[0m                 \u001b[0;32massert\u001b[0m \u001b[0mself\u001b[0m\u001b[0;34m.\u001b[0m\u001b[0my\u001b[0m \u001b[0;32mis\u001b[0m \u001b[0;32mnot\u001b[0m \u001b[0;32mNone\u001b[0m\u001b[0;34m\u001b[0m\u001b[0m\n\u001b[1;32m     25\u001b[0m                 \u001b[0;32massert\u001b[0m \u001b[0mself\u001b[0m\u001b[0;34m.\u001b[0m\u001b[0my\u001b[0m\u001b[0;34m[\u001b[0m\u001b[0mi\u001b[0m\u001b[0;34m]\u001b[0m \u001b[0;32mis\u001b[0m \u001b[0;32mnot\u001b[0m \u001b[0;32mNone\u001b[0m\u001b[0;34m\u001b[0m\u001b[0m\n\u001b[0;32m---> 26\u001b[0;31m                 \u001b[0mself\u001b[0m\u001b[0;34m.\u001b[0m\u001b[0mx\u001b[0m\u001b[0;34m[\u001b[0m\u001b[0mi\u001b[0m\u001b[0;34m]\u001b[0m \u001b[0;34m=\u001b[0m \u001b[0;36m1\u001b[0m \u001b[0;34m/\u001b[0m \u001b[0mself\u001b[0m\u001b[0;34m.\u001b[0m\u001b[0mn\u001b[0m \u001b[0;34m*\u001b[0m \u001b[0;34m(\u001b[0m\u001b[0;34m(\u001b[0m\u001b[0mself\u001b[0m\u001b[0;34m.\u001b[0m\u001b[0my\u001b[0m\u001b[0;34m[\u001b[0m\u001b[0mi\u001b[0m\u001b[0;34m]\u001b[0m \u001b[0;34m-\u001b[0m \u001b[0;34m(\u001b[0m\u001b[0mself\u001b[0m\u001b[0;34m.\u001b[0m\u001b[0mf\u001b[0m\u001b[0;34m[\u001b[0m\u001b[0mi\u001b[0m\u001b[0;34m]\u001b[0m\u001b[0;34m.\u001b[0m\u001b[0mtoarray\u001b[0m\u001b[0;34m(\u001b[0m\u001b[0;34m)\u001b[0m\u001b[0;34m[\u001b[0m\u001b[0;36m0\u001b[0m\u001b[0;34m]\u001b[0m\u001b[0;34m[\u001b[0m\u001b[0;34m:\u001b[0m\u001b[0mself\u001b[0m\u001b[0;34m.\u001b[0m\u001b[0mj\u001b[0m\u001b[0;34m]\u001b[0m\u001b[0;34m)\u001b[0m\u001b[0;34m.\u001b[0m\u001b[0msum\u001b[0m\u001b[0;34m(\u001b[0m\u001b[0;34m)\u001b[0m\u001b[0;34m)\u001b[0m \u001b[0;34m/\u001b[0m \u001b[0mself\u001b[0m\u001b[0;34m.\u001b[0m\u001b[0mf\u001b[0m\u001b[0;34m[\u001b[0m\u001b[0mi\u001b[0m\u001b[0;34m]\u001b[0m\u001b[0;34m[\u001b[0m\u001b[0mself\u001b[0m\u001b[0;34m.\u001b[0m\u001b[0mj\u001b[0m\u001b[0;34m]\u001b[0m \u001b[0;34m+\u001b[0m \u001b[0mself\u001b[0m\u001b[0;34m.\u001b[0m\u001b[0mj\u001b[0m \u001b[0;34m-\u001b[0m \u001b[0;36m1\u001b[0m\u001b[0;34m)\u001b[0m\u001b[0;34m\u001b[0m\u001b[0m\n\u001b[0m\u001b[1;32m     27\u001b[0m             \u001b[0;32melse\u001b[0m\u001b[0;34m:\u001b[0m\u001b[0;34m\u001b[0m\u001b[0m\n\u001b[1;32m     28\u001b[0m                 \u001b[0mself\u001b[0m\u001b[0;34m.\u001b[0m\u001b[0mcount\u001b[0m \u001b[0;34m+=\u001b[0m \u001b[0;36m1\u001b[0m\u001b[0;34m\u001b[0m\u001b[0m\n",
      "\u001b[0;32m~/studying/anton/anton/lib/python3.5/site-packages/scipy/sparse/csr.py\u001b[0m in \u001b[0;36m__getitem__\u001b[0;34m(self, key)\u001b[0m\n\u001b[1;32m    290\u001b[0m             \u001b[0;31m# [i, 1:2]\u001b[0m\u001b[0;34m\u001b[0m\u001b[0;34m\u001b[0m\u001b[0m\n\u001b[1;32m    291\u001b[0m             \u001b[0;32melif\u001b[0m \u001b[0misinstance\u001b[0m\u001b[0;34m(\u001b[0m\u001b[0mcol\u001b[0m\u001b[0;34m,\u001b[0m \u001b[0mslice\u001b[0m\u001b[0;34m)\u001b[0m\u001b[0;34m:\u001b[0m\u001b[0;34m\u001b[0m\u001b[0m\n\u001b[0;32m--> 292\u001b[0;31m                 \u001b[0;32mreturn\u001b[0m \u001b[0mself\u001b[0m\u001b[0;34m.\u001b[0m\u001b[0m_get_row_slice\u001b[0m\u001b[0;34m(\u001b[0m\u001b[0mrow\u001b[0m\u001b[0;34m,\u001b[0m \u001b[0mcol\u001b[0m\u001b[0;34m)\u001b[0m\u001b[0;34m\u001b[0m\u001b[0m\n\u001b[0m\u001b[1;32m    293\u001b[0m             \u001b[0;31m# [i, [1, 2]]\u001b[0m\u001b[0;34m\u001b[0m\u001b[0;34m\u001b[0m\u001b[0m\n\u001b[1;32m    294\u001b[0m             \u001b[0;32melif\u001b[0m \u001b[0missequence\u001b[0m\u001b[0;34m(\u001b[0m\u001b[0mcol\u001b[0m\u001b[0;34m)\u001b[0m\u001b[0;34m:\u001b[0m\u001b[0;34m\u001b[0m\u001b[0m\n",
      "\u001b[0;32m~/studying/anton/anton/lib/python3.5/site-packages/scipy/sparse/csr.py\u001b[0m in \u001b[0;36m_get_row_slice\u001b[0;34m(self, i, cslice)\u001b[0m\n\u001b[1;32m    397\u001b[0m \u001b[0;34m\u001b[0m\u001b[0m\n\u001b[1;32m    398\u001b[0m         \u001b[0;32mif\u001b[0m \u001b[0mi\u001b[0m \u001b[0;34m<\u001b[0m \u001b[0;36m0\u001b[0m \u001b[0;32mor\u001b[0m \u001b[0mi\u001b[0m \u001b[0;34m>=\u001b[0m \u001b[0mM\u001b[0m\u001b[0;34m:\u001b[0m\u001b[0;34m\u001b[0m\u001b[0m\n\u001b[0;32m--> 399\u001b[0;31m             \u001b[0;32mraise\u001b[0m \u001b[0mIndexError\u001b[0m\u001b[0;34m(\u001b[0m\u001b[0;34m'index (%d) out of range'\u001b[0m \u001b[0;34m%\u001b[0m \u001b[0mi\u001b[0m\u001b[0;34m)\u001b[0m\u001b[0;34m\u001b[0m\u001b[0m\n\u001b[0m\u001b[1;32m    400\u001b[0m \u001b[0;34m\u001b[0m\u001b[0m\n\u001b[1;32m    401\u001b[0m         \u001b[0mstart\u001b[0m\u001b[0;34m,\u001b[0m \u001b[0mstop\u001b[0m\u001b[0;34m,\u001b[0m \u001b[0mstride\u001b[0m \u001b[0;34m=\u001b[0m \u001b[0mcslice\u001b[0m\u001b[0;34m.\u001b[0m\u001b[0mindices\u001b[0m\u001b[0;34m(\u001b[0m\u001b[0mN\u001b[0m\u001b[0;34m)\u001b[0m\u001b[0;34m\u001b[0m\u001b[0m\n",
      "\u001b[0;31mIndexError\u001b[0m: index (12) out of range"
     ]
    }
   ],
   "source": [
    "new_traj = generated_trajectory(density_evolution.new_density, density_evolution.T, density_evolution.n, 90000, 12)\n",
    "new_traj.count_x()"
   ]
  },
  {
   "cell_type": "code",
   "execution_count": 120,
   "metadata": {
    "collapsed": false
   },
   "outputs": [
    {
     "data": {
      "text/plain": [
       "63997"
      ]
     },
     "execution_count": 120,
     "metadata": {},
     "output_type": "execute_result"
    },
    {
     "name": "stderr",
     "output_type": "stream",
     "text": [
      "\n",
      " 71%|███████   | 63749/90000 [00:29<00:11, 2191.46it/s]\u001b[A"
     ]
    }
   ],
   "source": [
    "new_traj.count"
   ]
  },
  {
   "cell_type": "code",
   "execution_count": null,
   "metadata": {
    "collapsed": true
   },
   "outputs": [],
   "source": []
  },
  {
   "cell_type": "code",
   "execution_count": null,
   "metadata": {
    "collapsed": true
   },
   "outputs": [],
   "source": []
  },
  {
   "cell_type": "code",
   "execution_count": null,
   "metadata": {
    "collapsed": true
   },
   "outputs": [],
   "source": []
  },
  {
   "cell_type": "code",
   "execution_count": null,
   "metadata": {
    "collapsed": true
   },
   "outputs": [],
   "source": []
  },
  {
   "cell_type": "code",
   "execution_count": null,
   "metadata": {
    "collapsed": true
   },
   "outputs": [],
   "source": []
  }
 ],
 "metadata": {
  "kernelspec": {
   "display_name": "Python 3",
   "language": "python",
   "name": "python3"
  },
  "language_info": {
   "codemirror_mode": {
    "name": "ipython",
    "version": 3
   },
   "file_extension": ".py",
   "mimetype": "text/x-python",
   "name": "python",
   "nbconvert_exporter": "python",
   "pygments_lexer": "ipython3",
   "version": "3.5.3"
  }
 },
 "nbformat": 4,
 "nbformat_minor": 2
}
